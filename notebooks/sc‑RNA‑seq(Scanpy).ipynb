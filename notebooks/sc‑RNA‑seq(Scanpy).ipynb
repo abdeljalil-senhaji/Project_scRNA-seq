{
 "cells": [
  {
   "cell_type": "markdown",
   "id": "457905b4",
   "metadata": {},
   "source": [
    "#sc‑RNA‑seq — Python (Scanpy)\n",
    "- pipeline PBMC 3k analysis"
   ]
  },
  {
   "cell_type": "markdown",
   "id": "2297199e",
   "metadata": {},
   "source": [
    "# Install packeges \n"
   ]
  },
  {
   "cell_type": "code",
   "execution_count": null,
   "id": "d1e74cd2",
   "metadata": {},
   "outputs": [],
   "source": [
    "import scanpy as sc\n",
    "adata = sc.datasets.pbmc3k()  # matrice gènes×cellules\n",
    "adata"
   ]
  },
  {
   "cell_type": "code",
   "execution_count": null,
   "id": "f5a76d1d",
   "metadata": {},
   "outputs": [],
   "source": [
    "import scanpy as sc\n",
    "import numpy as np\n",
    "\n",
    "# QC\n",
    "adata.var['mt'] = adata.var_names.str.upper().str.startswith('MT-')\n",
    "sc.pp.calculate_qc_metrics(adata, qc_vars=['mt'], percent_top=None, inplace=True)\n",
    "\n",
    "# filter \n",
    "sc.pp.filter_cells(adata, min_counts=500)\n",
    "sc.pp.filter_cells(adata, max_counts=40000)\n",
    "adata = adata[adata.obs['pct_counts_mt'] < 10].copy()\n",
    "sc.pp.filter_genes(adata, min_cells=3)\n",
    "\n",
    "# Normalization \n",
    "sc.pp.normalize_total(adata, target_sum=1e4)\n",
    "sc.pp.log1p(adata)\n",
    "\n",
    "# variable genes\n",
    "sc.pp.highly_variable_genes(adata, n_top_genes=2000, subset=True, flavor='seurat')\n",
    "\n",
    "# PCA\n",
    "sc.pp.scale(adata, max_value=10)\n",
    "sc.tl.pca(adata, svd_solver='arpack')\n",
    "\n",
    "# Voisinage, UMAP, clustering\n",
    "sc.pp.neighbors(adata, n_neighbors=15, n_pcs=40)\n",
    "sc.tl.umap(adata)\n",
    "sc.tl.leiden(adata, resolution=1.0)\n",
    "\n",
    "# Visualizations : \n",
    "\n",
    "sc.pl.umap(adata, color=['leiden', 'pct_counts_mt'], wspace=0.4)"
   ]
  },
  {
   "cell_type": "code",
   "execution_count": null,
   "id": "7506c8bf",
   "metadata": {},
   "outputs": [],
   "source": [
    "#Annotation initiale par marqueurs\n",
    "markers = {\n",
    "    'Naive T': ['CCR7', 'IL7R'],\n",
    "    'Memory T': ['S100A4'],\n",
    "    'B': ['MS4A1'],\n",
    "    'NK': ['NKG7', 'GNLY'],\n",
    "    'Monocytes': ['LYZ'],\n",
    "    'Dendritic': ['FCER1A', 'CST3'],\n",
    "}\n",
    "for celltype, genes in markers.items():\n",
    "    present = [g for g in genes if g in adata.var_names]\n",
    "    if present:\n",
    "        sc.pl.umap(adata, color=present, title=[f\"{celltype}: {', '.join(present)}\"]*len(present), wspace=0.4)"
   ]
  },
  {
   "cell_type": "code",
   "execution_count": null,
   "id": "38561262",
   "metadata": {},
   "outputs": [],
   "source": [
    "# Différentiel d'expression (exp)\n",
    "# Comparer les gènes par cluster : \n",
    "sc.tl.rank_genes_groups(adata, 'leiden', method='wilcoxon')\n",
    "sc.pl.rank_genes_groups(adata, n_genes=20, sharey=False)\n",
    "\n",
    "# Récupérer les résultats sous forme de table\n",
    "import pandas as pd\n",
    "res = sc.get.rank_genes_groups_df(adata, group=None)\n",
    "res.head()"
   ]
  }
 ],
 "metadata": {
  "kernelspec": {
   "display_name": ".venv",
   "language": "python",
   "name": "python3"
  },
  "language_info": {
   "name": "python",
   "version": "3.10.5"
  }
 },
 "nbformat": 4,
 "nbformat_minor": 5
}
