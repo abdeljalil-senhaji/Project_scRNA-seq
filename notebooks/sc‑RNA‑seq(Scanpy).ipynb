{
 "cells": [
  {
   "cell_type": "markdown",
   "id": "457905b4",
   "metadata": {},
   "source": [
    "#sc‑RNA‑seq — Python (Scanpy)\n",
    "- pipeline PBMC 3k analysis\n",
    "- "
   ]
  },
  {
   "cell_type": "code",
   "execution_count": null,
   "id": "d1e74cd2",
   "metadata": {
    "vscode": {
     "languageId": "plaintext"
    }
   },
   "outputs": [],
   "source": [
    "import scanpy as sc\n",
    "adata = sc.datasets.pbmc3k()  # matrice gènes×cellules\n",
    "adata"
   ]
  }
 ],
 "metadata": {
  "language_info": {
   "name": "python"
  }
 },
 "nbformat": 4,
 "nbformat_minor": 5
}
