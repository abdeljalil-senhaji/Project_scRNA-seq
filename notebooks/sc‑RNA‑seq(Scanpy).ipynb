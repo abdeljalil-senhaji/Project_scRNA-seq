{
 "cells": [
  {
   "cell_type": "markdown",
   "id": "457905b4",
   "metadata": {},
   "source": [
    "#sc‑RNA‑seq — Python (Scanpy)\n",
    "- pipeline PBMC 3k analysis"
   ]
  },
  {
   "cell_type": "markdown",
   "id": "2297199e",
   "metadata": {},
   "source": [
    "# Install packeges \n"
   ]
  },
  {
   "cell_type": "code",
   "execution_count": null,
   "id": "d1e74cd2",
   "metadata": {},
   "outputs": [],
   "source": [
    "import scanpy as sc\n",
    "adata = sc.datasets.pbmc3k()  # matrice gènes×cellules\n",
    "adata"
   ]
  },
  {
   "cell_type": "code",
   "execution_count": null,
   "id": "f5a76d1d",
   "metadata": {},
   "outputs": [],
   "source": [
    "import scanpy as sc\n",
    "import numpy as np\n",
    "\n",
    "# QC\n",
    "adata.var['mt'] = adata.var_names.str.upper().str.startswith('MT-')\n",
    "sc.pp.calculate_qc_metrics(adata, qc_vars=['mt'], percent_top=None, inplace=True)\n",
    "\n",
    "# filter \n",
    "sc.pp.filter_cells(adata, min_counts=500)\n",
    "sc.pp.filter_cells(adata, max_counts=40000)\n",
    "adata = adata[adata.obs['pct_counts_mt'] < 10].copy()\n",
    "sc.pp.filter_genes(adata, min_cells=3)\n",
    "\n",
    "# Normalization \n",
    "sc.pp.normalize_total(adata, target_sum=1e4)\n",
    "sc.pp.log1p(adata)\n",
    "\n",
    "# variable genes\n",
    "sc.pp.highly_variable_genes(adata, n_top_genes=2000, subset=True, flavor='seurat')\n",
    "\n",
    "# PCA\n",
    "sc.pp.scale(adata, max_value=10)\n",
    "sc.tl.pca(adata, svd_solver='arpack')\n",
    "\n",
    "# Voisinage, UMAP, clustering\n",
    "sc.pp.neighbors(adata, n_neighbors=15, n_pcs=40)\n",
    "sc.tl.umap(adata)\n",
    "sc.tl.leiden(adata, resolution=1.0)\n",
    "\n",
    "# Visualizations\n",
    "sc.pl.umap(adata, color=['leiden', 'pct_counts_mt'], wspace=0.4)"
   ]
  }
 ],
 "metadata": {
  "kernelspec": {
   "display_name": ".venv",
   "language": "python",
   "name": "python3"
  },
  "language_info": {
   "name": "python",
   "version": "3.10.5"
  }
 },
 "nbformat": 4,
 "nbformat_minor": 5
}
